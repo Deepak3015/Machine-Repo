{
 "cells": [
  {
   "cell_type": "code",
   "execution_count": 2,
   "id": "c5d71541",
   "metadata": {},
   "outputs": [],
   "source": [
    "import numpy as np\n",
    "def compute_cost(x,y,w,b):\n",
    "    m = len(y)\n",
    "    prediction = np.dot(x,w)+b\n",
    "    cost = (1/(2*m))*np.sum((prediction-y)**2)\n",
    "    return cost"
   ]
  },
  {
   "cell_type": "code",
   "execution_count": 3,
   "id": "7138a3ec",
   "metadata": {},
   "outputs": [],
   "source": [
    "def compute_gradient(x,y,w,b):\n",
    "    m = len(y)\n",
    "    prediction = np.dot(x,w)+b\n",
    "    dw = (1/m)*np.dot(x.T,(prediction-y))\n",
    "    db = (1/m)*np.sum(prediction-y)\n",
    "    return dw,db"
   ]
  },
  {
   "cell_type": "code",
   "execution_count": 5,
   "id": "a8ff90a4",
   "metadata": {},
   "outputs": [],
   "source": [
    "def gradient_descent(x,y,w_init,b_init,alpha,num_iters):\n",
    "    w = w_init\n",
    "    b = b_init\n",
    "    \n",
    "    cost_history = []\n",
    "    for i in range(num_iters):\n",
    "        dw,db = compute_gradient(x,y,w,b)\n",
    "        \n",
    "        w = w-alpha*dw\n",
    "        b = b - alpha*db\n",
    "        \n",
    "        cost  = compute_cost(x,y,w,b)\n",
    "        cost_history.append(cost)\n",
    "        \n",
    "        if i % 100 ==0:\n",
    "            print(f\"Iteration {i}:cost = {cost}\")\n",
    "    return w,b,cost_history"
   ]
  },
  {
   "cell_type": "code",
   "execution_count": 7,
   "id": "d71f1e7c",
   "metadata": {},
   "outputs": [
    {
     "name": "stdout",
     "output_type": "stream",
     "text": [
      "Iteration 0:cost = 49.11125\n",
      "Iteration 100:cost = 3.171903098705822\n",
      "Iteration 200:cost = 2.274232104395813\n",
      "Iteration 300:cost = 1.9119012688173145\n",
      "Iteration 400:cost = 1.765651905716451\n",
      "Iteration 500:cost = 1.7066205616872567\n",
      "Iteration 600:cost = 1.6827934522625827\n",
      "Iteration 700:cost = 1.6731759998248632\n",
      "Iteration 800:cost = 1.6692940605705782\n",
      "Iteration 900:cost = 1.667727174488058\n",
      "Iteration 1000:cost = 1.667094724613196\n",
      "Iteration 1100:cost = 1.6668394457842655\n",
      "Iteration 1200:cost = 1.6667364063449521\n",
      "Iteration 1300:cost = 1.6666948160332968\n",
      "Iteration 1400:cost = 1.6666780287328702\n",
      "Iteration 1500:cost = 1.6666712527928877\n",
      "Iteration 1600:cost = 1.6666685177871703\n",
      "Iteration 1700:cost = 1.6666674138434683\n",
      "Iteration 1800:cost = 1.6666669682532842\n",
      "Iteration 1900:cost = 1.6666667883975448\n",
      "Optimized w: [[-0.99986457 -0.33319791  0.33346876  1.00013543]], Optimized b: 4.999618237786149\n"
     ]
    }
   ],
   "source": [
    "# Example data\n",
    "x = np.array([[1], [2], [3], [4]])  # Features\n",
    "y = np.array([2, 4, 6, 8])          # Target\n",
    "\n",
    "# Initialize parameters\n",
    "w_init = 0\n",
    "b_init = 0\n",
    "alpha = 0.01\n",
    "num_iters = 2000\n",
    "\n",
    "# Run gradient descent\n",
    "w_opt, b_opt, cost_history = gradient_descent(x, y, w_init, b_init, alpha, num_iters)\n",
    "\n",
    "print(f\"Optimized w: {w_opt}, Optimized b: {b_opt}\")"
   ]
  },
  {
   "cell_type": "code",
   "execution_count": null,
   "id": "aa691fc4",
   "metadata": {},
   "outputs": [],
   "source": []
  }
 ],
 "metadata": {
  "kernelspec": {
   "display_name": "Python 3 (ipykernel)",
   "language": "python",
   "name": "python3"
  },
  "language_info": {
   "codemirror_mode": {
    "name": "ipython",
    "version": 3
   },
   "file_extension": ".py",
   "mimetype": "text/x-python",
   "name": "python",
   "nbconvert_exporter": "python",
   "pygments_lexer": "ipython3",
   "version": "3.12.3"
  }
 },
 "nbformat": 4,
 "nbformat_minor": 5
}
