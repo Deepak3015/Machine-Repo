{
 "cells": [
  {
   "cell_type": "code",
   "execution_count": 1,
   "metadata": {},
   "outputs": [
    {
     "name": "stderr",
     "output_type": "stream",
     "text": [
      "/usr/local/lib/python3.12/dist-packages/pandas/core/arrays/masked.py:60: UserWarning: Pandas requires version '1.3.6' or newer of 'bottleneck' (version '1.3.5' currently installed).\n",
      "  from pandas.core import (\n"
     ]
    }
   ],
   "source": [
    "import pandas as pd\n",
    "import numpy as np\n",
    "import matplotlib.pyplot as plt\n",
    "import seaborn as sns"
   ]
  },
  {
   "cell_type": "code",
   "execution_count": 4,
   "metadata": {},
   "outputs": [],
   "source": [
    "customers =pd.read_csv('/home/ichigo/Desktop/Machine-Repo/EcommerceCustomers.csv')"
   ]
  },
  {
   "cell_type": "code",
   "execution_count": 5,
   "metadata": {},
   "outputs": [
    {
     "name": "stdout",
     "output_type": "stream",
     "text": [
      "                           Email  \\\n",
      "0      mstephenson@fernandez.com   \n",
      "1              hduke@hotmail.com   \n",
      "2               pallen@yahoo.com   \n",
      "3        riverarebecca@gmail.com   \n",
      "4  mstephens@davidson-herman.com   \n",
      "\n",
      "                                             Address            Avatar  \\\n",
      "0       835 Frank Tunnel\\nWrightmouth, MI 82180-9605            Violet   \n",
      "1     4547 Archer Common\\nDiazchester, CA 06566-8576         DarkGreen   \n",
      "2  24645 Valerie Unions Suite 582\\nCobbborough, D...            Bisque   \n",
      "3   1414 David Throughway\\nPort Jason, OH 22070-1220       SaddleBrown   \n",
      "4  14023 Rodriguez Passage\\nPort Jacobville, PR 3...  MediumAquaMarine   \n",
      "\n",
      "   Avg. Session Length  Time on App  Time on Website  Length of Membership  \\\n",
      "0            34.497268    12.655651        39.577668              4.082621   \n",
      "1            31.926272    11.109461        37.268959              2.664034   \n",
      "2            33.000915    11.330278        37.110597              4.104543   \n",
      "3            34.305557    13.717514        36.721283              3.120179   \n",
      "4            33.330673    12.795189        37.536653              4.446308   \n",
      "\n",
      "   Yearly Amount Spent  \n",
      "0           587.951054  \n",
      "1           392.204933  \n",
      "2           487.547505  \n",
      "3           581.852344  \n",
      "4           599.406092  \n"
     ]
    }
   ],
   "source": [
    "print(customers.head())"
   ]
  },
  {
   "cell_type": "code",
   "execution_count": 6,
   "metadata": {},
   "outputs": [
    {
     "name": "stdout",
     "output_type": "stream",
     "text": [
      "       Avg. Session Length  Time on App  Time on Website  \\\n",
      "count           500.000000   500.000000       500.000000   \n",
      "mean             33.053194    12.052488        37.060445   \n",
      "std               0.992563     0.994216         1.010489   \n",
      "min              29.532429     8.508152        33.913847   \n",
      "25%              32.341822    11.388153        36.349257   \n",
      "50%              33.082008    11.983231        37.069367   \n",
      "75%              33.711985    12.753850        37.716432   \n",
      "max              36.139662    15.126994        40.005182   \n",
      "\n",
      "       Length of Membership  Yearly Amount Spent  \n",
      "count            500.000000           500.000000  \n",
      "mean               3.533462           499.314038  \n",
      "std                0.999278            79.314782  \n",
      "min                0.269901           256.670582  \n",
      "25%                2.930450           445.038277  \n",
      "50%                3.533975           498.887875  \n",
      "75%                4.126502           549.313828  \n",
      "max                6.922689           765.518462  \n"
     ]
    }
   ],
   "source": [
    "print(customers.describe())"
   ]
  },
  {
   "cell_type": "code",
   "execution_count": 7,
   "metadata": {},
   "outputs": [
    {
     "name": "stdout",
     "output_type": "stream",
     "text": [
      "<class 'pandas.core.frame.DataFrame'>\n",
      "RangeIndex: 500 entries, 0 to 499\n",
      "Data columns (total 8 columns):\n",
      " #   Column                Non-Null Count  Dtype  \n",
      "---  ------                --------------  -----  \n",
      " 0   Email                 500 non-null    object \n",
      " 1   Address               500 non-null    object \n",
      " 2   Avatar                500 non-null    object \n",
      " 3   Avg. Session Length   500 non-null    float64\n",
      " 4   Time on App           500 non-null    float64\n",
      " 5   Time on Website       500 non-null    float64\n",
      " 6   Length of Membership  500 non-null    float64\n",
      " 7   Yearly Amount Spent   500 non-null    float64\n",
      "dtypes: float64(5), object(3)\n",
      "memory usage: 31.4+ KB\n",
      "None\n"
     ]
    }
   ],
   "source": [
    "print(customers.info())\n"
   ]
  },
  {
   "cell_type": "code",
   "execution_count": null,
   "metadata": {},
   "outputs": [],
   "source": []
  }
 ],
 "metadata": {
  "kernelspec": {
   "display_name": "Python 3",
   "language": "python",
   "name": "python3"
  },
  "language_info": {
   "codemirror_mode": {
    "name": "ipython",
    "version": 3
   },
   "file_extension": ".py",
   "mimetype": "text/x-python",
   "name": "python",
   "nbconvert_exporter": "python",
   "pygments_lexer": "ipython3",
   "version": "3.12.3"
  }
 },
 "nbformat": 4,
 "nbformat_minor": 2
}
