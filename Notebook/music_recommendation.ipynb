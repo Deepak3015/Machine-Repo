{
 "cells": [
  {
   "cell_type": "code",
   "execution_count": 1,
   "metadata": {},
   "outputs": [
    {
     "name": "stderr",
     "output_type": "stream",
     "text": [
      "/usr/local/lib/python3.12/dist-packages/pandas/core/arrays/masked.py:60: UserWarning: Pandas requires version '1.3.6' or newer of 'bottleneck' (version '1.3.5' currently installed).\n",
      "  from pandas.core import (\n"
     ]
    }
   ],
   "source": [
    "import pandas as pd"
   ]
  },
  {
   "cell_type": "code",
   "execution_count": 3,
   "metadata": {},
   "outputs": [],
   "source": [
    "df  = pd.read_csv('/home/ichigo/Desktop/Machine-Repo/Notebook/Spotify_data.csv')"
   ]
  },
  {
   "cell_type": "code",
   "execution_count": 4,
   "metadata": {},
   "outputs": [
    {
     "name": "stdout",
     "output_type": "stream",
     "text": [
      "   Unnamed: 0                  Track Name  \\\n",
      "0           0                 Not Like Us   \n",
      "1           1                     Houdini   \n",
      "2           2  BAND4BAND (feat. Lil Baby)   \n",
      "3           3          I Don't Wanna Wait   \n",
      "4           4                       Pedro   \n",
      "\n",
      "                                   Artists                  Album Name  \\\n",
      "0                           Kendrick Lamar                 Not Like Us   \n",
      "1                                   Eminem                     Houdini   \n",
      "2                    Central Cee, Lil Baby  BAND4BAND (feat. Lil Baby)   \n",
      "3                David Guetta, OneRepublic          I Don't Wanna Wait   \n",
      "4  Jaxomy, Agatino Romero, Raffaella Carrà                       Pedro   \n",
      "\n",
      "                 Album ID                Track ID  Popularity Release Date  \\\n",
      "0  5JjnoGJyOxfSZUZtk2rRwZ  6AI3ezQ4o3HUoP6Dhudph3          96   2024-05-04   \n",
      "1  6Xuu2z00jxRPZei4IJ9neK  2HYFX63wP3otVIvopRS99Z          94   2024-05-31   \n",
      "2  4AzPr5SUpNF553eC1d3aRy  7iabz12vAuVQYyekFIWJxD          91   2024-05-23   \n",
      "3  0wCLHkBRKcndhMQQpeo8Ji  331l3xABO0HMr1Kkyh2LZq          90   2024-04-05   \n",
      "4  5y6RXjI5VPR0RyInghTbf1  48lxT5qJF0yYyf2z4wB4xW          89   2024-03-29   \n",
      "\n",
      "   Duration (ms)  Explicit  ... Energy  Key  Loudness  Mode  Speechiness  \\\n",
      "0         274192      True  ...  0.472    1    -7.001     1       0.0776   \n",
      "1         227239      True  ...  0.887    9    -2.760     0       0.0683   \n",
      "2         140733      True  ...  0.764   11    -5.241     1       0.2040   \n",
      "3         149668     False  ...  0.714    1    -4.617     0       0.0309   \n",
      "4         144846     False  ...  0.936    9    -6.294     1       0.3010   \n",
      "\n",
      "   Acousticness  Instrumentalness  Liveness  Valence    Tempo  \n",
      "0        0.0107          0.000000    0.1410    0.214  101.061  \n",
      "1        0.0292          0.000002    0.0582    0.889  127.003  \n",
      "2        0.3590          0.000000    0.1190    0.886  140.113  \n",
      "3        0.0375          0.000000    0.2320    0.554  129.976  \n",
      "4        0.0229          0.000001    0.3110    0.844  151.019  \n",
      "\n",
      "[5 rows x 22 columns]\n"
     ]
    }
   ],
   "source": [
    "print(df.head())"
   ]
  },
  {
   "cell_type": "code",
   "execution_count": 5,
   "metadata": {},
   "outputs": [
    {
     "data": {
      "text/plain": [
       "Index(['Unnamed: 0', 'Track Name', 'Artists', 'Album Name', 'Album ID',\n",
       "       'Track ID', 'Popularity', 'Release Date', 'Duration (ms)', 'Explicit',\n",
       "       'External URLs', 'Danceability', 'Energy', 'Key', 'Loudness', 'Mode',\n",
       "       'Speechiness', 'Acousticness', 'Instrumentalness', 'Liveness',\n",
       "       'Valence', 'Tempo'],\n",
       "      dtype='object')"
      ]
     },
     "execution_count": 5,
     "metadata": {},
     "output_type": "execute_result"
    }
   ],
   "source": [
    "df.columns"
   ]
  },
  {
   "cell_type": "code",
   "execution_count": 7,
   "metadata": {},
   "outputs": [],
   "source": [
    "unwanted_colum = ['Unnamed: 0']\n",
    "df.drop(columns=unwanted_colum,inplace=True)"
   ]
  },
  {
   "cell_type": "code",
   "execution_count": null,
   "metadata": {},
   "outputs": [],
   "source": [
    "import matplotlib.pyplot as plt\n",
    "import seaborn as sns\n",
    "features = ['Energy', 'Valence', 'Danceability', 'Loudness', 'Acousticness']\n",
    "for feature in features:\n",
    "    plt.figure(figsize=(8, 5))\n",
    "    sns.scatterplot(data=spotify_data, x=feature, y='Popularity')\n",
    "    plt.title(f'Popularity vs {feature}')\n",
    "    plt.show()"
   ]
  }
 ],
 "metadata": {
  "kernelspec": {
   "display_name": "Python 3",
   "language": "python",
   "name": "python3"
  },
  "language_info": {
   "codemirror_mode": {
    "name": "ipython",
    "version": 3
   },
   "file_extension": ".py",
   "mimetype": "text/x-python",
   "name": "python",
   "nbconvert_exporter": "python",
   "pygments_lexer": "ipython3",
   "version": "3.12.3"
  }
 },
 "nbformat": 4,
 "nbformat_minor": 2
}
