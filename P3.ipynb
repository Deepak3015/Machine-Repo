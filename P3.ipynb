{
 "cells": [
  {
   "cell_type": "code",
   "execution_count": 26,
   "id": "af52c596",
   "metadata": {},
   "outputs": [],
   "source": [
    "import numpy as np\n",
    "import pandas as pd\n",
    "import matplotlib.pyplot as plt\n",
    "import seaborn as sns\n"
   ]
  },
  {
   "cell_type": "code",
   "execution_count": 19,
   "id": "aaeba61c",
   "metadata": {},
   "outputs": [
    {
     "name": "stdout",
     "output_type": "stream",
     "text": [
      "0          West\n",
      "1          West\n",
      "2         South\n",
      "3       Central\n",
      "4         South\n",
      "         ...   \n",
      "5904       West\n",
      "5905       West\n",
      "5906       West\n",
      "5907       West\n",
      "5908       West\n",
      "Name: Region, Length: 5893, dtype: object\n"
     ]
    }
   ],
   "source": [
    "df = pd.read_csv('VideoGamesSales.csv')\n",
    "df = df.drop_duplicates()\n",
    "df['Region'] = df[\"Region\"].fillna('North')\n",
    "print(df['Region'])\n"
   ]
  },
  {
   "cell_type": "code",
   "execution_count": 20,
   "id": "07fb225f",
   "metadata": {},
   "outputs": [],
   "source": [
    "df[\"NA_Sales\"] = df[\"NA_Sales\"].replace('[$]',\"\",regex = True)\n",
    "df[\"NA_Sales\"] = pd.to_numeric(df[\"NA_Sales\"],errors = 'coerce')\n",
    "na_mean = int(df[\"NA_Sales\"].mean())\n",
    "df['NA_Sales'] = df['NA_Sales'].fillna(na_mean)"
   ]
  },
  {
   "cell_type": "code",
   "execution_count": 21,
   "id": "90ebb67a",
   "metadata": {},
   "outputs": [],
   "source": [
    "df[\"Country\"] = df[\"Country\"].replace({'USA':'United States'})\n",
    "df['Country'] = df['Country'].str.title()\n",
    "df=df.rename(columns={'NA_Sales':'National Sales','Global_Sales':'Global Sales','NA_Profit':'National Profit','Global_Profit':'Global Profit'})"
   ]
  },
  {
   "cell_type": "code",
   "execution_count": 13,
   "id": "e743d286",
   "metadata": {},
   "outputs": [
    {
     "data": {
      "text/html": [
       "<div>\n",
       "<style scoped>\n",
       "    .dataframe tbody tr th:only-of-type {\n",
       "        vertical-align: middle;\n",
       "    }\n",
       "\n",
       "    .dataframe tbody tr th {\n",
       "        vertical-align: top;\n",
       "    }\n",
       "\n",
       "    .dataframe thead th {\n",
       "        text-align: right;\n",
       "    }\n",
       "</style>\n",
       "<table border=\"1\" class=\"dataframe\">\n",
       "  <thead>\n",
       "    <tr style=\"text-align: right;\">\n",
       "      <th></th>\n",
       "      <th>Rank</th>\n",
       "      <th>Name</th>\n",
       "      <th>Platform</th>\n",
       "      <th>Year</th>\n",
       "      <th>Month</th>\n",
       "      <th>Genre</th>\n",
       "      <th>Publisher</th>\n",
       "      <th>Country</th>\n",
       "      <th>City</th>\n",
       "      <th>State</th>\n",
       "      <th>Region</th>\n",
       "      <th>National Sales</th>\n",
       "      <th>Global Sales</th>\n",
       "      <th>National Profit</th>\n",
       "      <th>Global Profit</th>\n",
       "    </tr>\n",
       "  </thead>\n",
       "  <tbody>\n",
       "    <tr>\n",
       "      <th>0</th>\n",
       "      <td>1</td>\n",
       "      <td>Wii Sports</td>\n",
       "      <td>Wii</td>\n",
       "      <td>2010</td>\n",
       "      <td>Jan</td>\n",
       "      <td>Sports</td>\n",
       "      <td>Nintendo</td>\n",
       "      <td>United States</td>\n",
       "      <td>Fairfield</td>\n",
       "      <td>California</td>\n",
       "      <td>West</td>\n",
       "      <td>2.07</td>\n",
       "      <td>82.74</td>\n",
       "      <td>12.447</td>\n",
       "      <td>24.822</td>\n",
       "    </tr>\n",
       "    <tr>\n",
       "      <th>1</th>\n",
       "      <td>2</td>\n",
       "      <td>Super Mario Bros.</td>\n",
       "      <td>NES</td>\n",
       "      <td>2010</td>\n",
       "      <td>Feb</td>\n",
       "      <td>Platform</td>\n",
       "      <td>Nintendo</td>\n",
       "      <td>United States</td>\n",
       "      <td>Edmonds</td>\n",
       "      <td>Washington</td>\n",
       "      <td>West</td>\n",
       "      <td>2.07</td>\n",
       "      <td>40.24</td>\n",
       "      <td>8.724</td>\n",
       "      <td>12.072</td>\n",
       "    </tr>\n",
       "  </tbody>\n",
       "</table>\n",
       "</div>"
      ],
      "text/plain": [
       "   Rank               Name Platform  Year Month     Genre Publisher  \\\n",
       "0     1         Wii Sports      Wii  2010   Jan    Sports  Nintendo   \n",
       "1     2  Super Mario Bros.      NES  2010   Feb  Platform  Nintendo   \n",
       "\n",
       "         Country       City       State Region  National Sales  Global Sales  \\\n",
       "0  United States  Fairfield  California   West            2.07         82.74   \n",
       "1  United States    Edmonds  Washington   West            2.07         40.24   \n",
       "\n",
       "   National Profit  Global Profit  \n",
       "0           12.447         24.822  \n",
       "1            8.724         12.072  "
      ]
     },
     "execution_count": 13,
     "metadata": {},
     "output_type": "execute_result"
    }
   ],
   "source": [
    "sales_cap = df['National Sales'].quantile(0.95)\n",
    "df['National Sales'] = np.where(df['National Sales'] > sales_cap, sales_cap, df['National Sales'])\n",
    "df.head(2)"
   ]
  },
  {
   "cell_type": "code",
   "execution_count": 14,
   "id": "2c7018d5",
   "metadata": {},
   "outputs": [
    {
     "ename": "NameError",
     "evalue": "name 'sns' is not defined",
     "output_type": "error",
     "traceback": [
      "\u001b[0;31m---------------------------------------------------------------------------\u001b[0m",
      "\u001b[0;31mNameError\u001b[0m                                 Traceback (most recent call last)",
      "Cell \u001b[0;32mIn[14], line 6\u001b[0m\n\u001b[1;32m      4\u001b[0m National_Sales\n\u001b[1;32m      5\u001b[0m plt\u001b[38;5;241m.\u001b[39mfigure(figsize\u001b[38;5;241m=\u001b[39m(\u001b[38;5;241m16\u001b[39m, \u001b[38;5;241m8\u001b[39m))\n\u001b[0;32m----> 6\u001b[0m \u001b[43msns\u001b[49m\u001b[38;5;241m.\u001b[39mbarplot(data\u001b[38;5;241m=\u001b[39mNational_Sales, x\u001b[38;5;241m=\u001b[39m\u001b[38;5;124m'\u001b[39m\u001b[38;5;124mRegion\u001b[39m\u001b[38;5;124m'\u001b[39m, y\u001b[38;5;241m=\u001b[39m\u001b[38;5;124m'\u001b[39m\u001b[38;5;124mNational Sales\u001b[39m\u001b[38;5;124m'\u001b[39m,hue\u001b[38;5;241m=\u001b[39m\u001b[38;5;124m'\u001b[39m\u001b[38;5;124mCountry\u001b[39m\u001b[38;5;124m'\u001b[39m)\n\u001b[1;32m      7\u001b[0m plt\u001b[38;5;241m.\u001b[39mtitle(\u001b[38;5;124m'\u001b[39m\u001b[38;5;124mNational Sales by Region and Country\u001b[39m\u001b[38;5;124m'\u001b[39m,fontweight\u001b[38;5;241m=\u001b[39m\u001b[38;5;124m'\u001b[39m\u001b[38;5;124mbold\u001b[39m\u001b[38;5;124m'\u001b[39m)\n\u001b[1;32m      8\u001b[0m plt\u001b[38;5;241m.\u001b[39mxlabel(\u001b[38;5;124m'\u001b[39m\u001b[38;5;124mRegion\u001b[39m\u001b[38;5;124m'\u001b[39m,fontweight\u001b[38;5;241m=\u001b[39m\u001b[38;5;124m'\u001b[39m\u001b[38;5;124mbold\u001b[39m\u001b[38;5;124m'\u001b[39m)\n",
      "\u001b[0;31mNameError\u001b[0m: name 'sns' is not defined"
     ]
    },
    {
     "data": {
      "text/plain": [
       "<Figure size 1600x800 with 0 Axes>"
      ]
     },
     "metadata": {},
     "output_type": "display_data"
    }
   ],
   "source": [
    "#create a bar Chart\n",
    "\n",
    "National_Sales=df.groupby(['Region','Country'])['National Sales'].sum().reset_index().sort_values(by='National Sales', ascending=False)\n",
    "National_Sales\n",
    "plt.figure(figsize=(16, 8))\n",
    "sns.barplot(data=National_Sales, x='Region', y='National Sales',hue='Country')\n",
    "plt.title('National Sales by Region and Country',fontweight='bold')\n",
    "plt.xlabel('Region',fontweight='bold')\n",
    "plt.ylabel('National Sales',fontweight='bold')\n",
    "plt.show()"
   ]
  },
  {
   "cell_type": "code",
   "execution_count": null,
   "id": "30c516de",
   "metadata": {},
   "outputs": [],
   "source": []
  }
 ],
 "metadata": {
  "kernelspec": {
   "display_name": "Python 3 (ipykernel)",
   "language": "python",
   "name": "python3"
  },
  "language_info": {
   "codemirror_mode": {
    "name": "ipython",
    "version": 3
   },
   "file_extension": ".py",
   "mimetype": "text/x-python",
   "name": "python",
   "nbconvert_exporter": "python",
   "pygments_lexer": "ipython3",
   "version": "3.12.3"
  }
 },
 "nbformat": 4,
 "nbformat_minor": 5
}
